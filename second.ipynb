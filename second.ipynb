{
 "cells": [
  {
   "cell_type": "markdown",
   "metadata": {},
   "source": [
    "- !pip install django"
   ]
  },
  {
   "cell_type": "markdown",
   "metadata": {},
   "source": [
    "- django-admin startproject renderpage\n",
    "- "
   ]
  },
  {
   "cell_type": "markdown",
   "metadata": {},
   "source": [
    "- for calling a html page instead of http respone\n",
    "    - create <b>templates </b> folder inside app folder and\n",
    "    - call it in app_folder/view.py\n",
    "\n",
    "```python \n",
    "from django.shortcuts import render\n",
    "def hello_world(request):\n",
    "    return render(request,'helloworld.html')\n",
    "```\n"
   ]
  }
 ],
 "metadata": {
  "language_info": {
   "name": "python"
  }
 },
 "nbformat": 4,
 "nbformat_minor": 2
}

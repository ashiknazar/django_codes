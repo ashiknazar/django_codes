{
 "cells": [
  {
   "cell_type": "markdown",
   "metadata": {},
   "source": [
    "django-admin startproject mysite\n",
    "___"
   ]
  },
  {
   "cell_type": "markdown",
   "metadata": {},
   "source": [
    "enter into ``mysite`` folder\n",
    "___\n"
   ]
  },
  {
   "cell_type": "markdown",
   "metadata": {},
   "source": [
    "python manage.py startapp home\n",
    "___\n"
   ]
  },
  {
   "cell_type": "markdown",
   "metadata": {},
   "source": [
    "add `home` app to INSTALLED_APPS list in settings.py of mysite project.(not parent directory but there is ``mysite`` folder inside parent directory(``mysite``)) "
   ]
  },
  {
   "cell_type": "markdown",
   "metadata": {},
   "source": [
    "``mysite/settings.py``\n",
    "```python\n",
    "INSTALLED_APPS = [\n",
    "    'django.contrib.admin',\n",
    "    'django.contrib.auth',\n",
    "    'django.contrib.contenttypes',\n",
    "    'django.contrib.sessions',\n",
    "    'django.contrib.messages',\n",
    "    'django.contrib.staticfiles',\n",
    "    'home',  # Add this line\n",
    "]\n",
    "```\n",
    "___"
   ]
  },
  {
   "cell_type": "markdown",
   "metadata": {},
   "source": [
    "`mysite/settings.py`\n",
    "```python\n",
    "STATIC_URL='/static/'\n",
    "```\n",
    "___"
   ]
  },
  {
   "cell_type": "markdown",
   "metadata": {},
   "source": [
    "create templates inside app(`home`) folder as below. `templates` folder is a fixed name<br>\n",
    "`home/templates/home/home.html`\n"
   ]
  },
  {
   "cell_type": "markdown",
   "metadata": {},
   "source": [
    "```html\n",
    "<!-- home/templates/home/home.html -->\n",
    "<!DOCTYPE html>\n",
    "<html lang=\"en\">\n",
    "<head>\n",
    "    <meta charset=\"UTF-8\">\n",
    "    <meta name=\"viewport\" content=\"width=device-width, initial-scale=1.0\">\n",
    "    <title>Home Page</title>\n",
    "    <link rel=\"stylesheet\" href=\"{% static 'css/styles.css' %}\">\n",
    "</head>\n",
    "<body>\n",
    "    <h1>Welcome to the Home Page</h1>\n",
    "    <p>This page is styled using external CSS.</p>\n",
    "</body>\n",
    "</html>\n",
    "```\n",
    "___"
   ]
  },
  {
   "cell_type": "markdown",
   "metadata": {},
   "source": [
    "create static files `home/static/css/style.css`\n",
    "\n",
    "```css\n",
    "/* home/static/css/styles.css */\n",
    "body {\n",
    "    font-family: Arial, sans-serif;\n",
    "    background-color: #f4f4f9;\n",
    "    color: #333;\n",
    "    text-align: center;\n",
    "    padding: 50px;\n",
    "}\n",
    "\n",
    "h1 {\n",
    "    color: #3498db;\n",
    "}\n",
    "\n",
    "p {\n",
    "    font-size: 1.2em;\n",
    "}\n",
    "```"
   ]
  },
  {
   "cell_type": "markdown",
   "metadata": {},
   "source": [
    "___"
   ]
  },
  {
   "cell_type": "markdown",
   "metadata": {},
   "source": [
    "``home/view.py``\n",
    "```python\n",
    "# home/views.py\n",
    "from django.shortcuts import render\n",
    "\n",
    "def home(request):\n",
    "    return render(request, 'home/home.html')\n",
    "```"
   ]
  },
  {
   "cell_type": "markdown",
   "metadata": {},
   "source": [
    "`home/urls.py`\n",
    "```python\n",
    "# home/urls.py\n",
    "from django.urls import path\n",
    "from . import views\n",
    "\n",
    "urlpatterns = [\n",
    "    path('', views.home, name='home'),\n",
    "]\n",
    "```"
   ]
  },
  {
   "cell_type": "markdown",
   "metadata": {},
   "source": [
    "___"
   ]
  },
  {
   "cell_type": "markdown",
   "metadata": {},
   "source": [
    "`mysite/urls.py`\n",
    "```python\n",
    "# mysite/urls.py\n",
    "from django.contrib import admin\n",
    "from django.urls import path, include\n",
    "\n",
    "urlpatterns = [\n",
    "    path('admin/', admin.site.urls),\n",
    "    path('', include('home.urls')),  # Include the home app's URLs\n",
    "]\n",
    "```"
   ]
  },
  {
   "cell_type": "markdown",
   "metadata": {},
   "source": [
    "___\n",
    "python manage.py runserver\n"
   ]
  },
  {
   "cell_type": "markdown",
   "metadata": {},
   "source": []
  }
 ],
 "metadata": {
  "language_info": {
   "name": "python"
  }
 },
 "nbformat": 4,
 "nbformat_minor": 2
}

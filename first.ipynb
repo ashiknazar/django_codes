{
 "cells": [
  {
   "cell_type": "markdown",
   "metadata": {},
   "source": [
    "```python\n",
    "!pip install django"
   ]
  },
  {
   "cell_type": "markdown",
   "metadata": {},
   "source": [
    "```python\n",
    "django-admin startproject helloworld"
   ]
  },
  {
   "cell_type": "markdown",
   "metadata": {},
   "source": [
    "cd helloworld"
   ]
  },
  {
   "cell_type": "markdown",
   "metadata": {},
   "source": [
    "python manage.py startapp greetings\n",
    "___"
   ]
  },
  {
   "cell_type": "markdown",
   "metadata": {},
   "source": [
    "- add the App(greetings) to Settings.py\n",
    "   - settings.py is located in project directory\n",
    "    \n",
    "\n"
   ]
  },
  {
   "cell_type": "markdown",
   "metadata": {},
   "source": [
    "INSTALLED_APPS=[\n",
    "    'greetings',\n",
    "]\n",
    "___\n"
   ]
  },
  {
   "cell_type": "markdown",
   "metadata": {},
   "source": [
    "- create view.py in greetings (App folder)\n",
    " <br>\n",
    "```python \n",
    "from django.http import HttpResponse\n",
    "\n",
    "def hello_world(request):\n",
    "    return HttpResponse(\"hello world\")\n",
    "```\n",
    "___"
   ]
  },
  {
   "cell_type": "markdown",
   "metadata": {},
   "source": [
    "- setup url pattern\n",
    " - greetings/urls.py\n",
    "```python\n",
    "from django.urls import path\n",
    "from .views import hello_world\n",
    "\n",
    "urlpatterns=[\n",
    "    path('',hello_world,name='hello_world'),\n",
    "]\n",
    "```\n",
    "___"
   ]
  },
  {
   "cell_type": "markdown",
   "metadata": {},
   "source": [
    "- include url pattern in projects main url configuration.\n",
    "  - helloworld/urls.py\n",
    "\n",
    "```python \n",
    "from django.contrib import admin\n",
    "from django.urls import path,include\n",
    "urlpatterns=[\n",
    "  path('admin/',admin.site.urls),\n",
    "  path('',include('greetings.urls'))\n",
    "]\n",
    "```\n",
    "___\n"
   ]
  },
  {
   "cell_type": "markdown",
   "metadata": {},
   "source": [
    "```python \n",
    "python manage.py runserver\n",
    "```"
   ]
  },
  {
   "cell_type": "markdown",
   "metadata": {},
   "source": []
  }
 ],
 "metadata": {
  "language_info": {
   "name": "python"
  }
 },
 "nbformat": 4,
 "nbformat_minor": 2
}
